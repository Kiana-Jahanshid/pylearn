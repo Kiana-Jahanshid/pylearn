{
  "nbformat": 4,
  "nbformat_minor": 0,
  "metadata": {
    "colab": {
      "provenance": []
    },
    "kernelspec": {
      "name": "python3",
      "display_name": "Python 3"
    },
    "language_info": {
      "name": "python"
    }
  },
  "cells": [
    {
      "cell_type": "code",
      "execution_count": null,
      "metadata": {
        "id": "hZ8dVOj55Got"
      },
      "outputs": [],
      "source": [
        "!pip install pyTelegramBotAPI\n",
        "!pip install gtts\n",
        "!pip install telegram\n",
        "!pip install git+https://github.com/eternnoir/pyTelegramBotAPI.git\n",
        "!pip install qrcode"
      ]
    },
    {
      "cell_type": "code",
      "source": [
        "!pip install khayyam\n",
        "!pip install jdatetime"
      ],
      "metadata": {
        "id": "hwq5uwilr2dT"
      },
      "execution_count": null,
      "outputs": []
    },
    {
      "cell_type": "code",
      "source": [
        "import telebot \n",
        "import random\n",
        "import jdatetime\n",
        "import gtts\n",
        "#from telebot.types import Message\n",
        "from gtts import gTTS\n",
        "#from telegram import ReplyKeyboardMarkup\n",
        "from datetime import datetime , date\n",
        "from khayyam import jalali_date , jalali_datetime \n",
        "bot = telebot.TeleBot(\"5843752190:AAGme0OZWXRxcmWja5L2ksGcihPmPdaD238\"  )\n",
        "from telebot import types\n",
        "import qrcode\n",
        "\n",
        "@bot.message_handler(commands=['help']) \n",
        "def help(message):\n",
        "    my_keyboard= telebot.types.ReplyKeyboardMarkup(row_width=3)\n",
        "    key1 = telebot.types.KeyboardButton(\"/game\")\n",
        "    key2 = telebot.types.KeyboardButton(\"/age\")\n",
        "    key3 = telebot.types.KeyboardButton(\"/voice\")\n",
        "    key4 = telebot.types.KeyboardButton(\"/max\")\n",
        "    key5 = telebot.types.KeyboardButton(\"/argmax\")\n",
        "    key6 = telebot.types.KeyboardButton(\"/qrcode\")\n",
        "    key7 = types.KeyboardButton(\"/help\")\n",
        "    my_keyboard.row(key1, key2 , key3)\n",
        "    my_keyboard.row(key4, key5, key6)\n",
        "    my_keyboard.row(key7)\n",
        "    bot.send_message(message.chat.id ,\"Choose one of the below keys :\" , reply_markup=my_keyboard)\n",
        "\n",
        "\n",
        "\n",
        "\n",
        "@bot.message_handler(commands=['start']) #decorator \n",
        "def send_welcome(message):\n",
        "  bot.send_message(message.chat.id , \" Hi \" + message.from_user.first_name + \"\\nWelcome to Pybot\")\n",
        "  help(message)\n",
        "\n",
        "\n",
        "\n",
        "\n",
        "\n",
        "global today_time\n",
        "global user_birthday\n",
        "@bot.message_handler(commands=['age'])\n",
        "def Age_calculator(message):   \n",
        "    initial_message = bot.send_message(message.chat.id, \"enter your birthday in this format yy/mm/dd : \" )\n",
        "    bot.register_next_step_handler(initial_message , age_calc)\n",
        "def age_calc(message):\n",
        "    today_time = jdatetime.date.today()\n",
        "    user_birthday = message.text\n",
        "    user_birthday = user_birthday.split(\"/\")\n",
        "    today_time = jdatetime.date.today()\n",
        "    today_time = str(today_time)\n",
        "    print(today_time)\n",
        "    today_time = today_time.split(\"-\")\n",
        "    year , month , day = user_birthday\n",
        "    age_year = int(today_time[0]) - int(user_birthday[0])\n",
        "    age_month = int(today_time[1]) - int(user_birthday[1])\n",
        "    age_day = int(today_time[2]) - int(user_birthday[2])\n",
        "    if today_time[1] < user_birthday[1] :\n",
        "        age_year -= 1 \n",
        "        age_month += 12\n",
        "    if today_time[2] < user_birthday[2] :\n",
        "        age_day += 30\n",
        "    age_output = \"your age is : \"+ str(age_year) + \" year and \" +str(age_month) + \" month and \" + str(age_day) + \" days\"\n",
        "    bot.send_message(message.chat.id ,  age_output)\n",
        "\n",
        "\n",
        "\n",
        "\n",
        "@bot.message_handler(commands=['voice'])\n",
        "def text_to_voice(message):\n",
        "    initial_message = bot.send_message(message.chat.id, \"enter the text you want to convert to voice : \" )\n",
        "    bot.register_next_step_handler(initial_message , txt2voice)\n",
        "def txt2voice(message):\n",
        "    text = message.text\n",
        "    voice = gtts.gTTS( text , lang = \"en\" , slow = False )\n",
        "    voice.save(\"/content/drive/MyDrive/Colab Notebooks/text_to_voice.mp3\")\n",
        "    r_voice = open(\"/content/drive/MyDrive/Colab Notebooks/text_to_voice.mp3\" ,\"rb\")\n",
        "    bot.send_voice(message.chat.id , r_voice)\n",
        "\n",
        "\n",
        "\n",
        "\n",
        "@bot.message_handler(commands=['max'])\n",
        "def print_max_number(message):\n",
        "    initial_message = bot.send_message(message.chat.id, \"Enter a String Of Numbers,\\nSeparate Them With Comma,\\nTo Define Maximum : \" )\n",
        "    bot.register_next_step_handler(initial_message , max_finder)\n",
        "def max_finder(message):\n",
        "    string = message.text\n",
        "    array = string.split(\",\" or \" \" or \" ,\" or \", \")\n",
        "    for i in range(len(array)):\n",
        "        array[i] = int(array[i])\n",
        "    max=array[0]    \n",
        "    for i in range(1,len(array)-1) :\n",
        "        if array[i] > max :\n",
        "            max=array[i]   \n",
        "    bot.send_message(message.chat.id , max)\n",
        "\n",
        "\n",
        "\n",
        "\n",
        "@bot.message_handler(commands=['argmax'])\n",
        "def return_max_index(message):\n",
        "    initial_message = bot.send_message(message.chat.id, \"Enter a String Of Numbers,\\nSeparate Them With Comma,\\nTo Define Maximum number index: \" )\n",
        "    bot.register_next_step_handler(initial_message , max_index)\n",
        "def max_index(message):\n",
        "    string = message.text\n",
        "    array = string.split(\",\" or \" \" or \" ,\" or \", \")\n",
        "    for i in range(len(array)):\n",
        "        array[i] = int(array[i])\n",
        "    max=array[0]    \n",
        "    for i in range(len(array)-1) :\n",
        "        if array[i] > max :\n",
        "            max=array[i]\n",
        "            index = i   \n",
        "    argmax = \"maximum number is \"  + str(max) + \"\\nit's index is : \"+ str(index)  \n",
        "    bot.send_message(message.chat.id , argmax)\n",
        "\n",
        "\n",
        "\n",
        "\n",
        "@bot.message_handler(commands=['qrcode'])\n",
        "def Qrcode_generator(message):   \n",
        "    initial_message = bot.send_message(message.chat.id, \"Enter Anything to convert it to qrcode : \" )\n",
        "    bot.register_next_step_handler(initial_message , Qrcode)\n",
        "def Qrcode(message):\n",
        "    q_text = message.text\n",
        "    qr = qrcode.make(q_text)\n",
        "    qr.save(\"/content/drive/MyDrive/Colab Notebooks/Qrcode1.png\")\n",
        "    qr_image = open(\"/content/drive/MyDrive/Colab Notebooks/Qrcode1.png\" , \"rb\")\n",
        "    bot.send_photo(message.chat.id , qr_image)\n",
        "\n",
        "\n",
        "\n",
        "\n",
        "\n",
        "@bot.message_handler(commands=['game'])\n",
        "def Guess_number_game(message):\n",
        "    global RAND\n",
        "    RAND = random.randint(0 , 50)\n",
        "    bot.send_message(message.chat.id, \"guess a number between 0 and 50 : \" )\n",
        "@bot.message_handler(func=lambda m: True)\n",
        "def echo_all(message):\n",
        "    new_keyboard= telebot.types.ReplyKeyboardMarkup(row_width=1)\n",
        "    new_game_key = telebot.types.KeyboardButton(\"new game\")\n",
        "    new_keyboard.add(new_game_key)\n",
        "    new_keyboard.row(new_game_key)\n",
        "    if RAND > int(message.text) :\n",
        "        bot.send_message(message.chat.id , \"GO UP\")\n",
        "    elif RAND < int(message.text) :\n",
        "        bot.send_message(message.chat.id , \"GO Down\") \n",
        "    elif RAND == int(message.text) :\n",
        "        bot.send_message(message.chat.id , \"YOU WON\") \n",
        "\n",
        "     \n"
      ],
      "metadata": {
        "id": "_cyqU0y-_Ohj"
      },
      "execution_count": 99,
      "outputs": []
    },
    {
      "cell_type": "code",
      "source": [
        "from google.colab import drive\n",
        "drive.mount('/content/drive')"
      ],
      "metadata": {
        "colab": {
          "base_uri": "https://localhost:8080/"
        },
        "id": "so0Ca0wmssX3",
        "outputId": "57165b0b-e8c4-4252-b28d-d32012b10823"
      },
      "execution_count": 36,
      "outputs": [
        {
          "output_type": "stream",
          "name": "stdout",
          "text": [
            "Drive already mounted at /content/drive; to attempt to forcibly remount, call drive.mount(\"/content/drive\", force_remount=True).\n"
          ]
        }
      ]
    },
    {
      "cell_type": "code",
      "source": [
        "bot.infinity_polling() "
      ],
      "metadata": {
        "colab": {
          "base_uri": "https://localhost:8080/"
        },
        "id": "8OXDkipFL7XP",
        "outputId": "a0949ed3-b6ef-4ad9-e214-3ad5629e92d6"
      },
      "execution_count": 100,
      "outputs": [
        {
          "output_type": "stream",
          "name": "stderr",
          "text": [
            "2022-12-19 01:13:44,239 (__init__.py:966 MainThread) ERROR - TeleBot: \"Infinity polling: polling exited\"\n",
            "ERROR:TeleBot:Infinity polling: polling exited\n",
            "2022-12-19 01:13:44,245 (__init__.py:968 MainThread) ERROR - TeleBot: \"Break infinity polling\"\n",
            "ERROR:TeleBot:Break infinity polling\n"
          ]
        }
      ]
    }
  ]
}